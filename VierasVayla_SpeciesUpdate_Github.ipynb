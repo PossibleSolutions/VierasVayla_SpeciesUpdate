{
 "cells": [
  {
   "cell_type": "markdown",
   "metadata": {},
   "source": [
    "Project: Vierasvayla_2023\n",
    "Organization: SYKE\n",
    "Date: 2023-10-17\n",
    "Abstract: Update of https://ckan.ymparisto.fi/dataset/vaylanvarsien-vieraslajit-ja-arvokkaat-elinymparistot with the newest species observations"
   ]
  },
  {
   "cell_type": "markdown",
   "metadata": {},
   "source": [
    "# Data Sources\n",
    "\n",
    "Original data to update (observation areas represented by grid cells):\n",
    "https://ckan.ymparisto.fi/dataset/vaylanvarsien-vieraslajit-ja-arvokkaat-elinymparistot\n",
    "\n",
    "Species observations metadata:\n",
    "Tämän latauksen tunniste: http://tun.fi/HBF.79339\n",
    "Lataus on tehty 27.9.2023 seuraavilla rajauksilla:\n",
    "Kohde (laji): 'Acinos arvensis', 'Anchusa arvensis', 'Anchusa officinalis', \n",
    "'Androsace septentrionalis', 'Antennaria dioica', 'Anthemis arvensis', \n",
    "'Anthyllis vulneraria subsp. lapponica', 'Anthyllis vulneraria subsp. \n",
    "polyphylla', 'Anthyllis vulneraria subsp. vulneraria', 'Armeria maritima subsp. \n",
    "Elongata', 'Armeria maritima subsp. intermedia', 'Artemisia absinthium', \n",
    "'Artemisia campestris subsp. campestris', 'Botrychium boreale', 'Botrychium \n",
    "lanceolatum', 'Botrychium lunaria', 'Botrychium matricariifolium', 'Botrychium \n",
    "multifidum', 'Botrychium simplex', 'Buglossoides arvensis', 'Campanula \n",
    "cervicaria', 'Campanula glomerata', 'Campanula rotundifolia subsp. \n",
    "rotundifolia', 'Carlina biebersteinii', 'Centaurea jacea', 'Centaurea phrygia', \n",
    "'Centaurea scabiosa', 'Cerastium glutinosum', 'Crepis praemorsa', 'Cynoglossum \n",
    "officinale', 'Dactylorhiza majalis subsp. baltica', 'Dactylorhiza sambucina', \n",
    "'Dianthus arenarius', 'Dianthus deltoides', 'Draba nemorosa', 'Echium vulgare', \n",
    "'Erigeron acris subsp. acris', 'Erigeron acris subsp. decoloratus', 'Erigeron \n",
    "acris subsp. droebachiensis', 'Euphrasia micrantha', 'Euphrasia officinalis \n",
    "subsp. officinalis', 'Fragaria vesca', 'Galium verum', 'Gentianella amarella', \n",
    "'Gentianella campestris', 'Gymnadenia conopsea var. conopsea', 'Gypsophila \n",
    "fastigiata', 'Helianthemum nummularium', 'Hypericum montanum', 'Hypericum \n",
    "perforatum', 'Jasione montana', 'Knautia arvensis', 'Lathyrus pratensis', \n",
    "'Leontodon hispidus', 'Leonurus cardiaca', 'Leucanthemum vulgare', 'Linaria \n",
    "vulgaris', 'Melampyrum arvense', 'Melampyrum cristatum', 'Origanum vulgare', \n",
    "'Oxytropis campestris', 'Pilosella officinarum', 'Pimpinella saxifraga', \n",
    "'Plantago lanceolata', 'Plantago media', 'Polygala vulgaris', 'Potentilla \n",
    "anglica', 'Psammophiliella muralis', 'Saxifraga granulata', 'Saxifraga \n",
    "tridactylites', 'Silene nutans', 'Thymus serpyllum subsp. serpyllum', \n",
    "'Trifolium arvense', 'Trifolium aureum', 'Trifolium medium', 'Trifolium \n",
    "montanum', 'Trifolium pratense', 'Trifolium spadiceum', 'Verbascum nigrum', \n",
    "'Verbascum thapsus', 'Veronica spicata', 'Vicia cracca', 'Rosa rugosa', \n",
    "'Lupinus polyphyllus' \n",
    "Maa: Suomi\n",
    "Aika: 1990-01-01/2023-09-27\n",
    "Lataus tietovarastoon, päivänä tai ennen: 2023-09-27\n",
    "Koordinaattien tarkkuus: 1000\n",
    "Koordinaattien lähde: Ilmoitettu tieto\n",
    "Aineiston ja havainnon laatuluokitus: Ammattiaineistot / asiantuntijoiden \n",
    "laadunvarmistama: Asiantuntijan varmistama, Yhteisön varmistama, Ei arvioitu, \n",
    "Epävarma; Asiantuntevat harrastajat / asiantuntijoiden laadunvarmistama: \n",
    "Asiantuntijan varmistama, Yhteisön varmistama, Ei arvioitu; Kansalaishavaintoja \n",
    "/ ei laadunvarmistusta: Asiantuntijan varmistama\n",
    "\n",
    "\n",
    "\n",
    "Sensitive species (https://laji.fi/about/709) to exclude from open distribution:\n",
    "MX.38825\t1\tPutkilokasvit\tAgrimonia pilosa\tidänverijuuri\n",
    "MX.38292; MX.38294; MX.38295\t2\tPutkilokasvit\tArmeria maritima\tlaukkaneilikka\n",
    "MX.39280\t3\tPutkilokasvit\tAsperula tinctoria\tvärimaratti\n",
    "MX.38961\t4\tPutkilokasvit\tAstragalus glycyphyllos\timeläkurjenherne\n",
    "MX.37732\t5\tPutkilokasvit\tBotrychium simplex\tpikkunoidanlukko\n",
    "MX.40083\t6\tPutkilokasvit\tCalypso bulbosa\tneidonkenkä\n",
    "MX.40374\t7\tPutkilokasvit\tCarex ornithopoda\träpyläsara\n",
    "MX.40035\t8\tPutkilokasvit\tCephalanthera longifolia\tmiekkavalkku\n",
    "MX.40036\t9\tPutkilokasvit\tCephalanthera rubra\tpunavalkku\n",
    "MX.37893\t10\tPutkilokasvit\tClematis sibirica\tsiperiankärhö\n",
    "MX.40028\t11\tPutkilokasvit\tCypripedium calceolus\ttikankontti\n",
    "MX.41330\t12\tPutkilokasvit\tDactylorhiza majalis ssp. baltica\tbaltiankämmekkä\n",
    "MX.38147\t13\tPutkilokasvit\tDianthus arenarius\thietaneilikka\n",
    "MX.40033\t14\tPutkilokasvit\tEpipactis atrorubens\ttummaneidonvaippa\n",
    "MX.40031\t15\tPutkilokasvit\tEpipactis palustris\tsuoneidonvaippa\n",
    "MX.38596\t16\tPutkilokasvit\tErica tetralix\tnummikellokanerva\n",
    "MX.39296\t17\tPutkilokasvit\tGalium schultesii\tharsomatara\n",
    "MX.38300\t18\tPutkilokasvit\tHypericum montanum\tvuorikuisma\n",
    "MX.40286\t19\tPutkilokasvit\tCarex myosuroides\ttunturisarake\n",
    "MX.40287\t20\tPutkilokasvit\tCarex simpliciuscula\tkuusamonsarake\n",
    "MX.40085\t21\tPutkilokasvit\tLiparis loeselii\tkiiltovalkku\n",
    "MX.40087\t22\tPutkilokasvit\tMalaxis monophyllos\tsääskenvalkku\n",
    "MX.40508\t23\tPutkilokasvit\tMelica ciliata\ttähkähelmikkä\n",
    "MX.40079\t24\tPutkilokasvit\tOphrys insectifera\tkimalaisorho\n",
    "MX.40076\t25\tPutkilokasvit\tOrchis militaris\tsoikkokämmekkä\n",
    "MX.38964\t26\tPutkilokasvit\tOxytropis lapponica\ttunturikeulankärki\n",
    "MX.41754\t27\tPutkilokasvit\tPlatanthera oligantha\tpikkulehdokki\n",
    "MX.38215\t28\tPutkilokasvit\tPolygonum oxyspermum\tmeritatar\n",
    "MX.37888\t29\tPutkilokasvit\tPulsatilla patens\thämeenkylmänkukka\n",
    "MX.37886\t30\tPutkilokasvit\tPulsatilla vernalis\tkangasvuokko\n",
    "MX.38119\t31\tPutkilokasvit\tSilene involucrata ssp. tenella\tpohjankehtoailakki\n",
    "MX.5082333\t33\tPutkilokasvit\tVeratrum lobelianum\tpohjanpärskäjuuri\n",
    "MX.38313\t34\tPutkilokasvit\tViola collina\tmäkiorvokki\n",
    "\n",
    "There is additional data about rosa rugosa and Lupinus polyphyllus that is not displayed here because of data privacy. The data origin is Destia. This is combined with laji.fi data about rosa rugosa and Lupinus polyphyllus for a more comprehensive state of the species."
   ]
  },
  {
   "cell_type": "markdown",
   "metadata": {},
   "source": [
    "# Module imports"
   ]
  },
  {
   "cell_type": "code",
   "execution_count": 2,
   "metadata": {},
   "outputs": [],
   "source": [
    "import geopandas as gpd\n",
    "import pandas as pd\n",
    "import numpy as np\n",
    "import dask_geopandas as dask_gpd\n",
    "import fiona"
   ]
  },
  {
   "cell_type": "markdown",
   "metadata": {},
   "source": [
    "# Data imports"
   ]
  },
  {
   "cell_type": "code",
   "execution_count": 3,
   "metadata": {},
   "outputs": [
    {
     "data": {
      "text/plain": [
       "92054"
      ]
     },
     "execution_count": 3,
     "metadata": {},
     "output_type": "execute_result"
    }
   ],
   "source": [
    "#local copy of https://ckan.ymparisto.fi/dataset/vaylanvarsien-vieraslajit-ja-arvokkaat-elinymparistot representing observations areas as grid cells\n",
    "filename = r\"PathToYourLocalCopy\"\n",
    "ddf = dask_gpd.read_file(filename, npartitions=2)\n",
    "df_ruudut = ddf.compute()\n",
    "len(df_ruudut)"
   ]
  },
  {
   "cell_type": "code",
   "execution_count": 4,
   "metadata": {},
   "outputs": [
    {
     "name": "stdout",
     "output_type": "stream",
     "text": [
      "Kurtturuusukohteet_tierekisterissi_vs_shp\n",
      "Kurtturuusu_piste_shp\n",
      "Kurtturuusu_alue_shp\n",
      "Lupiinit_tierekisterissä_piste\n"
     ]
    }
   ],
   "source": [
    "#data about invasive species rosa rugosa and Lupinus polyphyllus obtained from Destia\n",
    "filename = r\"PathToDestiaData\"\n",
    "\n",
    "#Use Fiona's listlayers method to get a list of all layers in a GDB file.\n",
    "layers = fiona.listlayers(filename)\n",
    "#Print the names of all layers.\n",
    "for layer in layers:\n",
    "    print(layer)"
   ]
  },
  {
   "cell_type": "code",
   "execution_count": 5,
   "metadata": {},
   "outputs": [
    {
     "data": {
      "text/plain": [
       "297355"
      ]
     },
     "execution_count": 5,
     "metadata": {},
     "output_type": "execute_result"
    }
   ],
   "source": [
    "#laji.fi species observation data described in sources\n",
    "filename = r\"PathToSpeciesObservationData\\HBF_79339_geo.gpkg\"\n",
    "ddf = dask_gpd.read_file(filename, npartitions=2)\n",
    "df_lajit = ddf.compute()\n",
    "len(df_lajit)"
   ]
  },
  {
   "cell_type": "markdown",
   "metadata": {},
   "source": [
    "## Merging of input data"
   ]
  },
  {
   "cell_type": "code",
   "execution_count": 7,
   "metadata": {},
   "outputs": [
    {
     "name": "stdout",
     "output_type": "stream",
     "text": [
      "9822\n",
      "175\n",
      "1202\n",
      "11199\n"
     ]
    }
   ],
   "source": [
    "#Rosa rugosa. Read and filter all data about the species and concat into one\n",
    "kurtturuusu = 'http://tun.fi/MX.38815'\n",
    "df_kurtturuusu = df_lajit[df_lajit['taxon_id']==kurtturuusu]\n",
    "print(len(df_kurtturuusu))\n",
    "\n",
    "filename = r\"PathToDestiaData\"\n",
    "df_kurtturuusu2 = gpd.read_file(filename, layer='Kurtturuusu_piste_shp')\n",
    "print(len(df_kurtturuusu2))\n",
    "df_kurtturuusu3 = gpd.read_file(filename, layer='Kurtturuusu_alue_shp')\n",
    "print(len(df_kurtturuusu3))\n",
    "df_kurtturuusu3=df_kurtturuusu3.to_crs(epsg=3067)\n",
    "\n",
    "\n",
    "#Concatenate the GeoDataFrames.\n",
    "df_kurtturuusu_all = gpd.GeoDataFrame(pd.concat([df_kurtturuusu, df_kurtturuusu2, df_kurtturuusu3]))\n",
    "print(len(df_kurtturuusu_all))\n"
   ]
  },
  {
   "cell_type": "code",
   "execution_count": 8,
   "metadata": {},
   "outputs": [
    {
     "name": "stdout",
     "output_type": "stream",
     "text": [
      "37714\n",
      "1511\n",
      "39225\n"
     ]
    }
   ],
   "source": [
    "#Lupinus polyphyllus. Read and filter all data about the species and concat into one\n",
    "komealupiini = 'http://tun.fi/MX.38950'\n",
    "df_komealupiini = df_lajit[df_lajit['taxon_id']==komealupiini]\n",
    "print(len(df_komealupiini))\n",
    "\n",
    "filename = r\"PathToDestiaData\"\n",
    "df_komealupiini2 = gpd.read_file(filename, layer='Lupiinit_tierekisterissä_piste')\n",
    "print(len(df_komealupiini2))\n",
    "df_komealupiini2=df_komealupiini2.to_crs(epsg=3067)\n",
    "\n",
    "#Concatenate the GeoDataFrames.\n",
    "df_komealupiini_all = gpd.GeoDataFrame(pd.concat([df_komealupiini, df_komealupiini2]))\n",
    "print(len(df_komealupiini_all))"
   ]
  },
  {
   "cell_type": "code",
   "execution_count": 13,
   "metadata": {},
   "outputs": [
    {
     "data": {
      "text/plain": [
       "47536"
      ]
     },
     "execution_count": 13,
     "metadata": {},
     "output_type": "execute_result"
    }
   ],
   "source": [
    "#Rosa rugosa and Lupinus polyphyllus. number of invasive species\n",
    "taxon_id_invasive = ['http://tun.fi/MX.38950','http://tun.fi/MX.38815']\n",
    "komealupiini = 'http://tun.fi/MX.38950'\n",
    "kurtturuusu = 'http://tun.fi/MX.38815'\n",
    "\n",
    "#komealupiini ja kurtturuusu\n",
    "condition1 = df_lajit['taxon_id'].isin(taxon_id_invasive)\n",
    "df_invasive = df_lajit[condition1]\n",
    "len(df_invasive)"
   ]
  },
  {
   "cell_type": "markdown",
   "metadata": {},
   "source": [
    "# Aggregation of columns values"
   ]
  },
  {
   "cell_type": "code",
   "execution_count": 14,
   "metadata": {},
   "outputs": [
    {
     "name": "stdout",
     "output_type": "stream",
     "text": [
      "0                   Sceptridium multifidum NT\n",
      "1                           Fragaria vesca LC\n",
      "2    Anthyllis vulneraria subsp. lapponica NT\n",
      "3                   Sceptridium multifidum NT\n",
      "4                        Antennaria dioica NT\n",
      "Name: scientific_name_interpreted2, dtype: object\n",
      "0     ahonoidanlukko NT\n",
      "1        ahomansikka LC\n",
      "2      pohjanmasmalo NT\n",
      "3     ahonoidanlukko NT\n",
      "4    ahokissankäpälä NT\n",
      "Name: common_name_finnish2, dtype: object\n"
     ]
    }
   ],
   "source": [
    "#create species_name column that includes IUCN class in addition to the species name\n",
    "df_lajit['scientific_name_interpreted2'] = df_lajit.apply(lambda row: row['scientific_name_interpreted'] + ' ' + row['red_list_status'][:2] if row['red_list_status'] is not None and row['scientific_name_interpreted'] is not None else row['scientific_name_interpreted'], axis=1)\n",
    "df_lajit['common_name_finnish2'] = df_lajit.apply(lambda row: row['common_name_finnish'] + ' ' + row['red_list_status'][:2] if row['red_list_status'] is not None and row['common_name_finnish'] is not None else row['common_name_finnish'], axis=1)\n",
    "\n",
    "print(df_lajit['scientific_name_interpreted2'].head(5))\n",
    "print(df_lajit['common_name_finnish2'].head(5))"
   ]
  },
  {
   "cell_type": "markdown",
   "metadata": {},
   "source": [
    "# Subsetting data"
   ]
  },
  {
   "cell_type": "code",
   "execution_count": 15,
   "metadata": {},
   "outputs": [
    {
     "data": {
      "text/plain": [
       "249819"
      ]
     },
     "execution_count": 15,
     "metadata": {},
     "output_type": "execute_result"
    }
   ],
   "source": [
    "#all rows except rosa and lupinus, because they already have a column assigned to them\n",
    "condition1 = ~df_lajit['taxon_id'].isin(taxon_id_invasive)\n",
    "df_other = df_lajit[condition1]\n",
    "len(df_other)"
   ]
  },
  {
   "cell_type": "code",
   "execution_count": 16,
   "metadata": {},
   "outputs": [
    {
     "data": {
      "text/plain": [
       "True"
      ]
     },
     "execution_count": 16,
     "metadata": {},
     "output_type": "execute_result"
    }
   ],
   "source": [
    "#to ensure that numbers are ok\n",
    "len(df_invasive) + len(df_other) == len(df_lajit)"
   ]
  },
  {
   "cell_type": "code",
   "execution_count": 12,
   "metadata": {},
   "outputs": [
    {
     "data": {
      "text/plain": [
       "35"
      ]
     },
     "execution_count": 12,
     "metadata": {},
     "output_type": "execute_result"
    }
   ],
   "source": [
    "#ensure that the open publication does not include any sensitive species listed in https://laji.fi/about/709\n",
    "taxon_id_sensitives = [\n",
    "    \"MX.38825\",\n",
    "    \"MX.38292\",\n",
    "    \"MX.38294\",\n",
    "    \"MX.38295\",\n",
    "    \"MX.39280\",\n",
    "    \"MX.38961\",\n",
    "    \"MX.37732\",\n",
    "    \"MX.40083\",\n",
    "    \"MX.40374\",\n",
    "    \"MX.40035\",\n",
    "    \"MX.40036\",\n",
    "    \"MX.37893\",\n",
    "    \"MX.40028\",\n",
    "    \"MX.41330\",\n",
    "    \"MX.38147\",\n",
    "    \"MX.40033\",\n",
    "    \"MX.40031\",\n",
    "    \"MX.38596\",\n",
    "    \"MX.39296\",\n",
    "    \"MX.38300\",\n",
    "    \"MX.40286\",\n",
    "    \"MX.40287\",\n",
    "    \"MX.40085\",\n",
    "    \"MX.40087\",\n",
    "    \"MX.40508\",\n",
    "    \"MX.40079\",\n",
    "    \"MX.40076\",\n",
    "    \"MX.38964\",\n",
    "    \"MX.41754\",\n",
    "    \"MX.38215\",\n",
    "    \"MX.37888\",\n",
    "    \"MX.37886\",\n",
    "    \"MX.38119\",\n",
    "    \"MX.5082333\",\n",
    "    \"MX.38313\"\n",
    "]\n",
    "#concat the mx code with the prefix for the filter to work\n",
    "taxon_id_sensitives = [\"http://tun.fi/\" + code for code in taxon_id_sensitives]\n",
    "len(taxon_id_sensitives)"
   ]
  },
  {
   "cell_type": "code",
   "execution_count": 17,
   "metadata": {},
   "outputs": [
    {
     "data": {
      "text/plain": [
       "248873"
      ]
     },
     "execution_count": 17,
     "metadata": {},
     "output_type": "execute_result"
    }
   ],
   "source": [
    "#drop sensitive data. use df_notsensitive instead of df_other in open data\n",
    "condition1 = ~df_other['taxon_id'].isin(taxon_id_sensitives)\n",
    "df_notsensitive = df_other[condition1]\n",
    "len(df_notsensitive)"
   ]
  },
  {
   "cell_type": "code",
   "execution_count": 18,
   "metadata": {},
   "outputs": [
    {
     "name": "stdout",
     "output_type": "stream",
     "text": [
      "lajihavaintoja kaiken kaikkiaan 297355\n",
      "josta komealupiinia ja kurtturuusua 47536\n",
      "ja muita 249819\n",
      "joiden määrä on sensitiiviset lajit poistettuna 248873\n"
     ]
    }
   ],
   "source": [
    "print(f\"total number of species observations is {len(df_lajit)}\")\n",
    "print(f\"of which the amount of rosa rugosa and Lupinus polyphyllus observations is {len(df_invasive)}\")\n",
    "print(f\"and the amount of other species observations is {len(df_other)}\")\n",
    "print(f\"which is {len(df_notsensitive)} without the sensitive species observations\")"
   ]
  },
  {
   "cell_type": "markdown",
   "metadata": {},
   "source": [
    "# Joining of species observations into observation areas and aggregation of area values"
   ]
  },
  {
   "cell_type": "code",
   "execution_count": 27,
   "metadata": {},
   "outputs": [],
   "source": [
    "#Species observation points in polygons (grid cells), change input df according to openness and comment the other out\n",
    "point_in_polygons = gpd.sjoin(df_other, df_ruudut, how='left')\n",
    "#point_in_polygons = gpd.sjoin(df_notsensitive, df_ruudut, how='left')\n",
    "\n",
    "\n",
    "#Group by polygon index and aggregate values into columns. \"set\" command results into unique list\n",
    "df_ruudut['Havaintopisteita'] = point_in_polygons.groupby('index_right').size()\n",
    "df_ruudut['AlueenLajit_SCI'] = point_in_polygons.groupby('index_right')['scientific_name_interpreted2'].apply(set)\n",
    "df_ruudut['AlueenLajit_FIN'] = point_in_polygons.groupby('index_right')['common_name_finnish2'].apply(set)\n",
    "df_ruudut['Uniikkilajeja'] = df_ruudut['AlueenLajit_SCI'].apply(lambda x: len(x) if not isinstance(x, float) else 0) #to overcome type error when has no len()\n",
    "df_ruudut['AlueenLajit_SCI'] = df_ruudut['AlueenLajit_SCI'].astype(str) #ensure that output is string\n",
    "df_ruudut['AlueenLajit_FIN'] = df_ruudut['AlueenLajit_FIN'].astype(str)"
   ]
  },
  {
   "cell_type": "code",
   "execution_count": 28,
   "metadata": {},
   "outputs": [],
   "source": [
    "#Group by polygon index and aggregate species names into a set and observation years into lists\n",
    "aggregated_data = point_in_polygons.groupby('index_right').agg({'year': list})\n",
    "\n",
    "#Get the minimum and maximum observation year for each polygon\n",
    "aggregated_data['min_year'] = aggregated_data['year'].apply(min)\n",
    "aggregated_data['max_year'] = aggregated_data['year'].apply(max)\n",
    "\n",
    "#Create a new column 'year_range' where value is 'min_year - max_year'\n",
    "aggregated_data['Havaintoaika'] = aggregated_data.apply(lambda row: f\"{row['min_year']} - {row['max_year']}\", axis=1)\n",
    "\n",
    "#Merge aggregated_data back into polygons\n",
    "df_ruudut['Havaintoaika'] = aggregated_data['Havaintoaika'] "
   ]
  },
  {
   "cell_type": "code",
   "execution_count": 24,
   "metadata": {},
   "outputs": [],
   "source": [
    "#polygons that have overlapping features get value 1. so here gridd cells with intersecting lupinus observations get value 1\n",
    "df_ruudut['Komealupiini'] = df_ruudut['geometry'].apply(lambda x: df_komealupiini_all['geometry'].intersects(x).any()).astype(int)"
   ]
  },
  {
   "cell_type": "code",
   "execution_count": 25,
   "metadata": {},
   "outputs": [],
   "source": [
    "#polygons that have overlapping features get value 1. so here gridd cells with intersecting rosa observations get value 1\n",
    "df_ruudut['Kurtturuusu'] = df_ruudut['geometry'].apply(lambda x: df_kurtturuusu_all['geometry'].intersects(x).any()).astype(int)"
   ]
  },
  {
   "cell_type": "markdown",
   "metadata": {},
   "source": [
    "# Saving to file"
   ]
  },
  {
   "cell_type": "code",
   "execution_count": 29,
   "metadata": {},
   "outputs": [],
   "source": [
    "#save the file according to data privacy\n",
    "out_file = r\"PathToYourOutput\"\n",
    "#out_file = r\"PathToYourOutput_OpenPublication\"\n",
    "\n",
    "df_ruudut.to_parquet(out_file)"
   ]
  }
 ],
 "metadata": {
  "kernelspec": {
   "display_name": "PipEnv",
   "language": "python",
   "name": "python3"
  },
  "language_info": {
   "codemirror_mode": {
    "name": "ipython",
    "version": 3
   },
   "file_extension": ".py",
   "mimetype": "text/x-python",
   "name": "python",
   "nbconvert_exporter": "python",
   "pygments_lexer": "ipython3",
   "version": "3.10.9"
  },
  "orig_nbformat": 4
 },
 "nbformat": 4,
 "nbformat_minor": 2
}
